{
 "cells": [
  {
   "cell_type": "markdown",
   "metadata": {},
   "source": [
    "# Homework 5: Confidence Intervals, the Bootstrap, and Autograders\n",
    "***\n",
    "\n",
    "**Name**: Jacob Munoz Collaborated with Kelsey Adams and Andrew Fay\n",
    "\n",
    "**Section**: 001\n",
    "***\n",
    "\n",
    "This assignment is due on Moodle by **5pm on Friday November 10th**. Your solutions to theoretical questions should be done in Markdown/MathJax directly below the associated question.  Your solutions to computational questions should include any specified Python code and results as well as written commentary on your conclusions.  Remember that you are encouraged to discuss the problems with your instructors and classmates, but **you must write all code and solutions on your own**.  For a refresher on the course **Collaboration Policy** click [here](https://github.com/chrisketelsen/csci3022/blob/master/resources/syllabus.md#collaboration-policy).  \n",
    "\n",
    "**NOTES**: \n",
    "\n",
    "- Do **NOT** load or use any Python packages that are not available in Anaconda 3.6. \n",
    "- Some problems with code may be autograded.  If we provide a function API **do not** change it.  If we do not provide a function API then you're free to structure your code however you like. \n",
    "- Because you can technically evaluate notebook cells is a non-linear order, it's a good idea to do Cell $\\rightarrow$ Run All as a check before submitting your solutions.  That way if we need to run your code you will know that it will work as expected. \n",
    "- Submit only this Jupyter notebook to Moodle.  Do not compress it using tar, rar, zip, etc. "
   ]
  },
  {
   "cell_type": "code",
   "execution_count": 1,
   "metadata": {
    "collapsed": true,
    "scrolled": true
   },
   "outputs": [],
   "source": [
    "import numpy as np\n",
    "import matplotlib.pylab as plt\n",
    "import pandas as pd\n",
    "from scipy import stats\n",
    "import scipy\n",
    "import math\n",
    "import random\n",
    "%matplotlib inline"
   ]
  },
  {
   "cell_type": "markdown",
   "metadata": {},
   "source": [
    "### [20 points] Problem 1 - Alcohol Content of Red vs White Wine \n",
    "***\n",
    "\n",
    "Load the data in $\\texttt{winequality-red.csv}$ and $\\texttt{winequality-white.csv}$ into Pandas DataFrames.  A description of this dataset can be found on [Berkeley's Machine Learning Repository](https://archive.ics.uci.edu/ml/datasets/Wine+Quality). The characteristic that we'll be interested in is the wine's alcohol content.  "
   ]
  },
  {
   "cell_type": "code",
   "execution_count": 2,
   "metadata": {
    "collapsed": true
   },
   "outputs": [],
   "source": [
    "df = pd.read_csv('winequality-white.csv', sep=\";\")\n",
    "df1 = pd.read_csv('winequality-red.csv', sep=\";\")\n",
    "alcoholWhite = df['alcohol']\n",
    "alcoholRed = df1['alcohol']"
   ]
  },
  {
   "cell_type": "markdown",
   "metadata": {},
   "source": [
    "**Part A**: Are we justified in using the assumptions of the Central Limit Theorem in our analysis of estimates of the mean of the data?  Justify your response. "
   ]
  },
  {
   "cell_type": "markdown",
   "metadata": {
    "collapsed": true
   },
   "source": [
    "Yes because with a large enough sample size the mean of the distribution of means (the normal distribution obtained through the central limit therom) will be the same as our original sample's mean. Our sample size is much larger than 30 so the central limit theorem should work just fine."
   ]
  },
  {
   "cell_type": "markdown",
   "metadata": {},
   "source": [
    "**Part B**: Compute a 95% confidence interval for the mean of the red wine's alcohol content.  Separately, compute a 95% confidence interval for the mean of the white wine's alcohol content. Do all computations in Python. "
   ]
  },
  {
   "cell_type": "code",
   "execution_count": 3,
   "metadata": {},
   "outputs": [
    {
     "name": "stdout",
     "output_type": "stream",
     "text": [
      "A 95% CI for the mean of the white wine's alcohol content is: (8.1019450510740949, 12.926589044475181)\n",
      "Calculated mean white wine alcohol content: 10.514267047774638 \n",
      "\n",
      "A 95% CI for the mean of the red wine's alcohol content is: (8.3333835605069364, 12.512582668386068)\n",
      "Calculated mean red wine alcohol content: 10.422983114446502\n"
     ]
    }
   ],
   "source": [
    "#numpy function to calculate the mean\n",
    "meanWhite = np.mean(alcoholWhite)\n",
    "meanRed = np.mean(alcoholRed)\n",
    "\n",
    "#scipy function to calculate standard error of mean\n",
    "whiteError = np.std(alcoholWhite) \n",
    "redError = np.std(alcoholRed)\n",
    "\n",
    "#scipy function interval calculates the CI \n",
    "whiteCI = scipy.stats.t.interval(0.95, len(alcoholWhite)-1, loc=meanWhite, scale=whiteError)\n",
    "redCI = scipy.stats.t.interval(0.95, len(alcoholRed)-1, loc=meanRed, scale=redError)\n",
    "\n",
    "print(\"A 95% CI for the mean of the white wine's alcohol content is: {}\".format(whiteCI))\n",
    "print(\"Calculated mean white wine alcohol content: {} \\n\".format(meanWhite))\n",
    "print(\"A 95% CI for the mean of the red wine's alcohol content is: {}\".format(redCI))\n",
    "print(\"Calculated mean red wine alcohol content: {}\".format(meanRed))"
   ]
  },
  {
   "cell_type": "markdown",
   "metadata": {},
   "source": [
    "This says that I am 95% confident that the true mean for alcohol percentages of red and white wine lie in those ranges. The calculated mean's lie right in the middle of the range so I would say this supports the CI."
   ]
  },
  {
   "cell_type": "markdown",
   "metadata": {},
   "source": [
    "**Part C**: Compute the 95% confidence interval for the difference between the means of the alcohol content of red and white wine. "
   ]
  },
  {
   "cell_type": "code",
   "execution_count": 4,
   "metadata": {},
   "outputs": [
    {
     "name": "stdout",
     "output_type": "stream",
     "text": [
      "Calculated mean difference: 0.09128393332813545\n",
      "95% confidence interval: (0.0287056120836309, 0.15386225457264)\n"
     ]
    }
   ],
   "source": [
    "meanDiff = meanWhite - meanRed\n",
    "\n",
    "#calculate variance from standard deviation, sqaure the SD\n",
    "varWhite = math.pow(whiteError, 2)\n",
    "varRed = math.pow(redError, 2)\n",
    "\n",
    "#to be used to calculate standard error, sqrt only allows one arg, add Var/n for red and white\n",
    "tmpWhite = varWhite / (len(alcoholWhite) - 1)\n",
    "tmpRed = varRed / (len(alcoholRed) - 1)\n",
    "sqrtTmp = tmpWhite + tmpRed\n",
    "\n",
    "#calculate standard error and z score with alpha/2\n",
    "standardError = math.sqrt(sqrtTmp)\n",
    "z = scipy.stats.norm.ppf(.975)\n",
    "\n",
    "lowerBound = meanDiff - (standardError * z)\n",
    "upperBound = meanDiff + (standardError * z)\n",
    "\n",
    "print(\"Calculated mean difference: {}\".format(meanDiff))\n",
    "print(\"95% confidence interval: ({}, {})\".format(lowerBound, upperBound))"
   ]
  },
  {
   "cell_type": "markdown",
   "metadata": {},
   "source": [
    "**Part D**: Interpret the confidence interval you computed in **Part C** in one or two sentences.  Can you say that it's likely that there is a difference in mean alcohol content between red and white wine?  "
   ]
  },
  {
   "cell_type": "markdown",
   "metadata": {
    "collapsed": true
   },
   "source": [
    "We are 95% confident that the true mean difference of red and white wine alcohol percentage lies in that interval and in fact the calculated mean difference does fall in the interval. With the interval that I calculated I would say that there is likely no difference in alcohol percentage because I am 95% certain the difference is between .028% and .15% which is negligible. So you should simply drink what you prefer!"
   ]
  },
  {
   "cell_type": "markdown",
   "metadata": {},
   "source": [
    "### [15 points] Problem 2: Election Polling\n",
    "***\n",
    "\n",
    "On the eve of an important senate seat election, a pollster polls a simple random sample of the population and asks which candidate they plan to vote for on the following day. In particular, the pollster asks if the respondents plan to vote for Candidate A, Candidate B, or some other candidate.  The results of the poll can be found in the following table: \n",
    "\n",
    "\\begin{array}{ccc}\n",
    "\\hline \n",
    "\\textrm{Candidate A} & \\textrm{Candidate B} & \\textrm{Other} \\\\\n",
    "\\hline \n",
    "1204 & 1099 & 205  \\\\\n",
    "\\hline \n",
    "\\end{array}\n",
    "\n",
    "**Part A**: Poll results are typically reported as a predicted **percentage** of the electorate plus or minus a margin of error, i.e. $\\texttt{percentage} \\pm \\texttt{margin}$.  Express the poll results for Candidates A and B in the specified format at the 95% confidence level. "
   ]
  },
  {
   "cell_type": "markdown",
   "metadata": {
    "collapsed": true
   },
   "source": [
    "The margin of error = Critical value x Standard Deviation:  \n",
    "\n",
    "Proportion of A to total population: $\\frac{1204}{2508}$ = 0.4800  \n",
    "\n",
    "Standard deviation $\\sigma$ of A = $\\sqrt{\\frac{0.48(1 - 0.48)}{2508}}$ = .00997  \n",
    "\n",
    "$\\alpha$ = 1 - $\\frac{0.95}{1} = 0.05$  \n",
    "\n",
    "$Z_{\\alpha / 2} = Z_{.025} = norm.ppf(.975) = 1.96$ = Critical value  \n",
    "\n",
    "Margin of Error = 1.96 * .00997 = .0195  \n",
    "\n",
    "This means the predicted percentage of electorate A is 48% $\\pm$ 1.95% with a 95% confidence level.  \n",
    "\n",
    "Proportion of B to total population: $\\frac{1099}{2508}$ = 0.4382  \n",
    "\n",
    "Standard deviation $\\sigma$ of B = $\\sqrt{\\frac{0.44(1 - 0.44)}{2508}}$ = .00991   \n",
    "\n",
    "Margin of Error = 1.96 * .00991 = .0194  \n",
    "\n",
    "This means the predicted percentage of electorate B is 43.82% $\\pm$ 1.94% with a 95% confidence level.  \n",
    "\n",
    "Proportion of C to total population: $\\frac{205}{2508}$ = 0.0817\n",
    "\n",
    "Standard deviation $\\sigma$ of Other = $\\sqrt{\\frac{0.0817(1 - 0.0817)}{2508}}$ = .00244\n",
    "\n",
    "Margin of Error = 1.96 * .00244 = .00478  \n",
    "\n",
    "This means the predicted percentage of electorate Other is 0.08% $\\pm$ 0.45% with a 95% confidence level."
   ]
  },
  {
   "cell_type": "markdown",
   "metadata": {},
   "source": [
    "**Part B**: Express the poll results as 95% confidence intervals.  Based on these results, would it be responsible for a newspaper to definitely call the election for a particular candidate? Clearly justify your response. "
   ]
  },
  {
   "cell_type": "markdown",
   "metadata": {
    "collapsed": true
   },
   "source": [
    "Chance of candidate A winning: [46.05, 49.95]  \n",
    "Chance of candidate B winning: [41.88, 45.76]  \n",
    "Chance of other candidate winning: [0.37, 0.53]  \n",
    "All with a 95% confidence interval.\n",
    "\n",
    "With these confidence intervales I would say it would be ok for a newspaper to call the election for candidate A because candidate A's CI is higher than candidate B (The lower bound of A is higher than the upper bound of B) and since I am 95% confident the true mean lies in these ranges there is a 95% chance Candidate A will be above candidate B."
   ]
  },
  {
   "cell_type": "markdown",
   "metadata": {},
   "source": [
    "**Part C**: In the run-up to the next election, the pollster is designing a poll of a city council race between two relatively unknown candidates.  Without having any prior data, how many respondents does the pollster need responses from to guarantee that she will get at most a 2% margin of error at the 95% confidence level? Be sure to **clearly** justify your reasoning.  \n",
    "\n",
    "**Hint**: Recall that when computing confidence intervals for proportions we use the actual sample proportions to approximate the variance.  How can you get a worst-case scenario estimate of the variance when the sample proportion is not known _a priori_? \n"
   ]
  },
  {
   "cell_type": "markdown",
   "metadata": {
    "collapsed": true
   },
   "source": [
    "n = ?  p = 0.5 in worst case  \n",
    "\n",
    "$Z*\\sqrt{\\frac{p(1-p)}{n}}$ <= 0.02  \n",
    "\n",
    "1.96 * $\\sqrt{\\frac{0.5(1-0.5)}{n}}$ <= 0.02  \n",
    "\n",
    "$\\sqrt{\\frac{0.25}{n}}<= \\frac{0.02}{1.96}$  \n",
    "\n",
    "$\\sqrt{\\frac{0.25}{n}} <= 0.01020408$  \n",
    "\n",
    "$\\frac{0.25}{n} <= 0.000104$  \n",
    "\n",
    "$\\frac{0.25}{0.000104} = n$  \n",
    "\n",
    "$n = 2403$"
   ]
  },
  {
   "cell_type": "markdown",
   "metadata": {},
   "source": [
    "### [15 points] Problem 3 - Have Opinions on Marijuana Legalization Changed? \n",
    "***\n",
    "\n",
    "The General Social Survey (GSS) has been collecting demographic, behavioral, and attitudinal information since 1972 to monitor changes within the US and to compare the US to other nations. Support for the legalization of marijuana in the US is shown for 2010 and in 2016 in the following table:\n",
    "\n",
    "\n",
    "\\begin{array}{cccc}\n",
    "\\hline\n",
    "\\textrm{Year} & \\textrm{Favor} & \\textrm{Oppose} & \\textrm{Total} \\\\ \n",
    "\\hline\n",
    "\\textrm{2010} & \\textrm{603} & \\textrm{656} & \\textrm{1259} \\\\\n",
    "\\textrm{2016} & \\textrm{1126} & \\textrm{717} & \\textrm{1843} \\\\\n",
    "\\hline\n",
    "\\end{array}\n",
    "\n",
    "\n",
    "**Part A**: Find a 95% confidence interval for the change in the proportion supporting marijuana legalization from 2010 to 2016. Use Python for all computations and show your work. "
   ]
  },
  {
   "cell_type": "markdown",
   "metadata": {
    "collapsed": true
   },
   "source": [
    "We want: $\\hat{p_1} - \\hat{p_2} \\pm Z_{\\alpha / 2}\\sqrt{\\frac{p_1(1 - p_1}{m} + \\frac{p_2(1 - p_2)}{n}}$  \n",
    "\n",
    "$\\hat{p_1} = \\frac{603}{1259}$ = 0.48 in favor \n",
    "\n",
    "$\\hat{p_2} = \\frac{1126}{1843}$ = 0.61 in favor  \n",
    "\n",
    "$\\alpha$ = 1 - $\\frac{0.95}{1} = 0.05$  \n",
    "\n",
    "$Z_{\\alpha / 2} = Z_{.025} = scipy.stats.norm.ppf(.975) = 1.96$  \n",
    "\n",
    "0.48 - 0.61 $\\pm$ 1.96$\\sqrt{\\left( \\frac{0.48(1 - 0.48)}{1259} + \\frac{0.61(1 - 0.61)}{1843}\\right)}$  \n",
    "\n",
    "-0.13 $\\pm$ 1.96(0.018)  \n",
    "\n",
    "-0.13 $\\pm$ 0.035 = [-0.165, -0.095]  \n",
    "This means that we are 95% confident that the average difference in people who are in favor of marijuana has increased by somewhere in this range from 2010 to 2016."
   ]
  },
  {
   "cell_type": "markdown",
   "metadata": {},
   "source": [
    "**Part B**: Is it likely that the proportion supporting marijuana legalization changed between 2010 and 2016? Justify your conclusion using the ideas of statistical inference and your results from **Part A**. "
   ]
  },
  {
   "cell_type": "markdown",
   "metadata": {
    "collapsed": true
   },
   "source": [
    "I would say that it is likely that the proportion of supporters has increased because as you can see from part A, not only did the proportion of supporters increase but the total sample size also increased. This means that a larger proportion of a larger sample is in support of marijuana, clearly showing a change in proportion supporting legalization."
   ]
  },
  {
   "cell_type": "markdown",
   "metadata": {},
   "source": [
    "### [20 points] Problem 4 - Exploring Confidence Intervals \n",
    "***\n",
    "\n",
    "The so-called [Chi-squared](https://en.wikipedia.org/wiki/Chi-squared_distribution) distribution is important in several statistical tests.  It's also fairly asymmetric, and thus interesting for investigating confidence intervals.  It is implemented in scipy.stats as [chi2](https://docs.scipy.org/doc/scipy-0.19.1/reference/generated/scipy.stats.chi2.html). \n"
   ]
  },
  {
   "cell_type": "code",
   "execution_count": 5,
   "metadata": {
    "collapsed": true
   },
   "outputs": [],
   "source": [
    "from scipy.stats import chi2"
   ]
  },
  {
   "cell_type": "markdown",
   "metadata": {},
   "source": [
    "**Part A**: Complete the following code cell to plot a histogram of realizations from the Chi-squared distribution with parameter $K=3$. "
   ]
  },
  {
   "cell_type": "code",
   "execution_count": 6,
   "metadata": {
    "scrolled": false
   },
   "outputs": [
    {
     "data": {
      "text/plain": [
       "<function matplotlib.pyplot.show>"
      ]
     },
     "execution_count": 6,
     "metadata": {},
     "output_type": "execute_result"
    },
    {
     "data": {
      "image/png": "[encoded data removed]",
      "text/plain": [
       "<matplotlib.figure.Figure at 0x7f976d028048>"
      ]
     },
     "metadata": {},
     "output_type": "display_data"
    }
   ],
   "source": [
    "k = 3 \n",
    "x = chi2.rvs(k, size=10000)\n",
    "fig, ax = plt.subplots(nrows=1, ncols=1, figsize=(15,6))\n",
    "ax.grid(alpha = 0.25)\n",
    "ax.set_axisbelow(True)\n",
    "plt.plot(x)\n",
    "\n",
    "ax.set_title(\"Realizations from Chi-Squared\", fontsize = 20)\n",
    "ax.set_xlabel(\"Number\", fontsize = 16)\n",
    "ax.set_ylabel(\"Frequency\", fontsize = 16)\n",
    "plt.show"
   ]
  },
  {
   "cell_type": "markdown",
   "metadata": {},
   "source": [
    "**Part B**: Look up the mean and variance of the Chi-squared distribution with parameter $k=3$ and report them here. "
   ]
  },
  {
   "cell_type": "code",
   "execution_count": 7,
   "metadata": {},
   "outputs": [
    {
     "name": "stdout",
     "output_type": "stream",
     "text": [
      "The mean of a Chi-squared distribution is the number of degrees of freedom: 3.0\n",
      "The variance of a Chi-squared distribution is twice the mean: 6.0\n"
     ]
    }
   ],
   "source": [
    "mean = chi2.mean(k)\n",
    "var = chi2.var(k)\n",
    "print('The mean of a Chi-squared distribution is the number of degrees of freedom: {}'.format(mean))\n",
    "print('The variance of a Chi-squared distribution is twice the mean: {}'.format(var))"
   ]
  },
  {
   "cell_type": "markdown",
   "metadata": {},
   "source": [
    "**Part C**: In this part you'll write a function to investigate the _coverage properties_ of a confidence interval for the mean of the Chi-squared distribution. Complete the following function to randomly sample $m=500$ sample means with sample size $n=100$ for the Chi-squared distribution with parameter $k=3$.  For each random sample, compute the 95% confidence interval for the mean.  Your function should do two things: \n",
    "\n",
    "1. Report the proportion of confidence intervals that successfully cover the true mean of the distribution \n",
    "2. Make a plot of 50 randomly selected confidence intervals. Overlay the intervals on the line $y=\\mu$ where $\\mu$ is the true mean of the distribution. Color confidence intervals black if they cover the true mean, and red if they don't.  "
   ]
  },
  {
   "cell_type": "code",
   "execution_count": 22,
   "metadata": {
    "scrolled": false
   },
   "outputs": [
    {
     "name": "stdout",
     "output_type": "stream",
     "text": [
      "Proportion of successful confidence intervals:  0.944\n"
     ]
    },
    {
     "data": {
      "image/png": "[encoded data removed]",
      "text/plain": [
       "<matplotlib.figure.Figure at 0x7f9769aeaf98>"
      ]
     },
     "metadata": {},
     "output_type": "display_data"
    }
   ],
   "source": [
    "def confidence_intervals(m=500, n=100):\n",
    "    k = 3\n",
    "    trueMean = k\n",
    "    CI = []\n",
    "    count = 0\n",
    "    #holds the random sample\n",
    "    randomSample = []\n",
    "    \n",
    "    #calculate CI like every other time\n",
    "    SD = np.sqrt(2*k) / np.sqrt(n)\n",
    "    z = scipy.stats.norm.ppf(0.975)\n",
    "    zLower = scipy.stats.chi2.ppf(0.025, n - 1)\n",
    "    zUpper = scipy.stats.chi2.ppf(0.975, n - 1)\n",
    "    \n",
    "    #calculate the mean and CI m times, keep track of CI that includes true mean \n",
    "    for i in range(m):\n",
    "        sample = chi2.rvs(k, size = n)\n",
    "        mean = sample.mean()\n",
    "        \n",
    "        lower = mean - (z * SD)\n",
    "        upper = mean + (z * SD)\n",
    "        CI.append([lower, upper])\n",
    "        \n",
    "        if(lower <= trueMean <= upper):\n",
    "            count = count + 1\n",
    "            \n",
    "    #pick a random sample to plot\n",
    "    randomSample = np.random.choice(range(0,99), size = 50)\n",
    "    \n",
    "    fig, ax = plt.subplots(nrows = 1, ncols = 1, figsize = (12, 6))\n",
    "    ax.plot([0,49], [k, k], ls = '-', lw=3)\n",
    "    \n",
    "    ax.set_title(\"Random Confidence Intervals\", fontsize = 18)\n",
    "    ax.set_ylabel(\"Mean Values\", fontsize = 16)\n",
    "    ax.set_xlabel(\"Confidence Intervals\",fontsize= 16)\n",
    "    \n",
    "    for i in range(50):       \n",
    "        j = randomSample[i]        \n",
    "        xbar = k     \n",
    "        \n",
    "        if (CI[j][0] <= trueMean and CI[j][1] >= trueMean):\n",
    "            ax.plot([i, i], CI[j], color = \"black\")       \n",
    "        else:             \n",
    "            ax.plot([i, i], CI[j], color = \"red\")            \n",
    "\n",
    "    plt.xticks(range(0,50,2))    \n",
    "    print(\"Proportion of successful confidence intervals: \",count/m)        \n",
    "        \n",
    "confidence_intervals()"
   ]
  },
  {
   "cell_type": "markdown",
   "metadata": {},
   "source": [
    "**Part D**: Does the proportion of confidence intervals that cover the true mean of the distribution agree with the theory described in class?  Justify your conclusion. "
   ]
  },
  {
   "cell_type": "markdown",
   "metadata": {
    "collapsed": true
   },
   "source": [
    "The proportion of successful confidence intervales consistantly comes out to around 0.95 so I would say my distribution agrees with the theory and that I am 95% confident the true mean lies in the CI."
   ]
  },
  {
   "cell_type": "markdown",
   "metadata": {},
   "source": [
    "### [20 points] Problem 5 - Bootstrapped Confidence Intervals \n",
    "***\n",
    "\n",
    "An important feature in online advertising is the so-called _dwell time_, or the amount of time that a user spends viewing a particular piece of content. The data in dwell_times.csv contains the dwell times (in minutes) for 500 randomly selected users viewing an article on a website.  \n"
   ]
  },
  {
   "cell_type": "markdown",
   "metadata": {},
   "source": [
    "**Part A**: Read in the data from dwell_times.csv and create a frequency histogram with 20 bins. "
   ]
  },
  {
   "cell_type": "code",
   "execution_count": 9,
   "metadata": {},
   "outputs": [
    {
     "data": {
      "text/plain": [
       "<matplotlib.text.Text at 0x7f9769a3cda0>"
      ]
     },
     "execution_count": 9,
     "metadata": {},
     "output_type": "execute_result"
    },
    {
     "data": {
      "image/png": "[encoded data removed]",
      "text/plain": [
       "<matplotlib.figure.Figure at 0x7f9769cc0cc0>"
      ]
     },
     "metadata": {},
     "output_type": "display_data"
    }
   ],
   "source": [
    "with open('dwell_times.csv') as f:\n",
    "    dwellTimes = f.read().splitlines()\n",
    "#removes title from list\n",
    "del dwellTimes[0]\n",
    "#converts string to float\n",
    "dwellTimes = list(map(float, dwellTimes))\n",
    "\n",
    "fig, ax = plt.subplots(nrows=1, ncols=1, figsize=(12,6))\n",
    "pd.Series(dwellTimes).hist(ax=ax, bins=20, color=\"steelblue\", normed=True, edgecolor=\"white\")\n",
    "ax.grid(alpha=0.25)\n",
    "ax.set_axisbelow(True)\n",
    "\n",
    "ax.set_title(\"Dwell Time\", fontsize = 20)\n",
    "ax.set_xlabel(\"Time (minutes)\", fontsize = 16)\n",
    "ax.set_ylabel(\"Frequency\", fontsize = 16)"
   ]
  },
  {
   "cell_type": "markdown",
   "metadata": {},
   "source": [
    "To me this graph makes sense because people don't typically spend that much time on a particular web page so it makes sense for the graph to drop off rather quickly."
   ]
  },
  {
   "cell_type": "markdown",
   "metadata": {},
   "source": [
    "**Part B**: Complete the function dwell_mean below to create an empirical bootstrapped confidence interval at the 95% confidence level for the mean dwell time.  Use at least 5000 bootstrap resamples. In addition to returning the confidence interval, your function should also plot a histogram of the bootstrap resample means, along with some graphical representation of the 95% confidence interval. "
   ]
  },
  {
   "cell_type": "code",
   "execution_count": 10,
   "metadata": {},
   "outputs": [
    {
     "name": "stdout",
     "output_type": "stream",
     "text": [
      "The bootstrapped confidence interval for the mean with a 95% confidence level is: [ 8.05827704  8.86095666]\n"
     ]
    },
    {
     "data": {
      "image/png": "[encoded data removed]",
      "text/plain": [
       "<matplotlib.figure.Figure at 0x7f9769943160>"
      ]
     },
     "metadata": {},
     "output_type": "display_data"
    }
   ],
   "source": [
    "def dwell_mean(df, num_boots=5000, isPlot=False):\n",
    "    \n",
    "    CI = np.array([0.0, 1.0])\n",
    "    #holds bootstrap means\n",
    "    bsMean = []\n",
    "    #number of bootstrap samples\n",
    "    for i in range(num_boots):\n",
    "        bootStrap = []\n",
    "        #pick 500 random samples from the original data, resampling IS allowed\n",
    "        for j in range(500):\n",
    "            bootStrap.append(random.choice(dwellTimes))\n",
    "        \n",
    "        #calculate mean of bootstrap sample\n",
    "        tmp = np.mean(bootStrap)\n",
    "        bsMean.append(tmp)\n",
    "        #clear the list\n",
    "        del bootStrap[:]\n",
    "        \n",
    "    if isPlot: \n",
    "        fig, ax = plt.subplots(nrows=1, ncols=1, figsize=(12,6))\n",
    "        pd.Series(bsMean).hist(ax=ax, bins=20, color=\"steelblue\", normed=True, edgecolor=\"white\")\n",
    "        ax.grid(alpha=0.25)\n",
    "        ax.set_axisbelow(True)\n",
    "\n",
    "        ax.set_title(\"Bootstrap Means\", fontsize = 20)\n",
    "        ax.set_xlabel(\"Time (minutes)\", fontsize = 16)\n",
    "        ax.set_ylabel(\"Frequency\", fontsize = 16)\n",
    "    \n",
    "    #calculates the CI with upper and lower bounds\n",
    "    lower = np.percentile(bsMean, 2.5)\n",
    "    upper = np.percentile(bsMean, 97.5)\n",
    "    CI = np.array([lower, upper])\n",
    "    \n",
    "    #show the CI \n",
    "    plt.axvline(lower, color=\"red\")\n",
    "    plt.axvline(upper, color=\"red\")\n",
    "    \n",
    "    return CI \n",
    "bootCI = dwell_mean(dwellTimes, 5000, True)\n",
    "print(\"The bootstrapped confidence interval for the mean with a 95% confidence level is: {}\".format(bootCI))"
   ]
  },
  {
   "cell_type": "markdown",
   "metadata": {},
   "source": [
    "Looking at the original graph I would say the mean lies around 8 so this normal curve around 8.4 seems reasonable to me."
   ]
  },
  {
   "cell_type": "markdown",
   "metadata": {},
   "source": [
    "**Part C**: Suppose you are told that the actual dwell times in dwell_times.csv were sampled from a [LogNormal]() distribution with parameters $\\mu=2$ and $\\sigma^2 = \\frac{1}{4}$. Go to the linked Wiki page and read about the LogNormal distribution.  Then compute the exact **mean**, **median**, and **standard deviation** of the distribution for the given parameters and report them here. "
   ]
  },
  {
   "cell_type": "code",
   "execution_count": 11,
   "metadata": {},
   "outputs": [
    {
     "name": "stdout",
     "output_type": "stream",
     "text": [
      "Mean: 8.372897488127265\n",
      "Median: 7.38905609893065\n",
      "Standard Deviation: 4.462254918069333\n"
     ]
    }
   ],
   "source": [
    "x = (2 + (.5 * .25))\n",
    "mean = math.exp(x)\n",
    "\n",
    "median =  math.exp(2)\n",
    "\n",
    "sd = mean*(math.sqrt(math.exp(.25) - 1))\n",
    "\n",
    "print(\"Mean: {}\".format(mean))\n",
    "print(\"Median: {}\".format(median))\n",
    "print(\"Standard Deviation: {}\".format(sd))"
   ]
  },
  {
   "cell_type": "markdown",
   "metadata": {},
   "source": [
    "**Part D**: Use the true standard deviation of the distribution to compute a traditional 95% confidence interval for the sample mean of the dwell time data.  Compare the traditional 95% confidence interval to the bootstrapped 95% confidence interval. Do both confidence intervals cover the true mean?  Do both confidence intervals have roughly the same width?   "
   ]
  },
  {
   "cell_type": "code",
   "execution_count": 12,
   "metadata": {},
   "outputs": [
    {
     "name": "stdout",
     "output_type": "stream",
     "text": [
      "True mean: 8.445140189712486\n",
      "LogNormal Mean: 8.372897488127265\n",
      "Traditional 95% CI: (8.042285228920969, 8.8479951505040031)\n",
      "Bootstrapped 95% CI: [ 8.05827704  8.86095666]\n"
     ]
    }
   ],
   "source": [
    "#numpy function to calculate the mean\n",
    "dwellMean = np.mean(dwellTimes)\n",
    "\n",
    "#scipy function to calculate standard error of mean\n",
    "dwellError = scipy.stats.sem(dwellTimes) \n",
    "\n",
    "#scipy function interval calculates the CI \n",
    "dwellCI = scipy.stats.t.interval(0.95, len(dwellTimes)-1, loc=dwellMean, scale=dwellError)\n",
    "print(\"True mean: {}\".format(dwellMean))\n",
    "print(\"LogNormal Mean: {}\".format(mean))\n",
    "print(\"Traditional 95% CI: {}\".format(dwellCI))\n",
    "print(\"Bootstrapped 95% CI: {}\".format(bootCI))"
   ]
  },
  {
   "cell_type": "markdown",
   "metadata": {},
   "source": [
    "As you can see, both CI's cover the true mean of the data as well as the LogNormal mean from part C. Also, both CI's have intervals of very similar length so I am confident in the calculated means. This seems to show that the bootstrapping method is a very reliable method to work with data."
   ]
  },
  {
   "cell_type": "markdown",
   "metadata": {},
   "source": [
    "**Part E**: Complete the function dwell_stdev below to create an empirical bootstrapped confidence interval at the 95% confidence level for the standard deviation of dwell time.  Use at least 5000 bootstrapped resamples. In addition to returning the confidence interval, your function should also plot a histogram of the bootstrap resample standard deviations including some graphical indication of the 95% confidence interval.  "
   ]
  },
  {
   "cell_type": "code",
   "execution_count": 13,
   "metadata": {},
   "outputs": [
    {
     "name": "stdout",
     "output_type": "stream",
     "text": [
      "The bootstrapped confidence interval for the standard deviation with a 95% confidence level is: [ 4.05493018  5.10424812]\n"
     ]
    },
    {
     "data": {
      "image/png": "[encoded data removed]",
      "text/plain": [
       "<matplotlib.figure.Figure at 0x7f97698504a8>"
      ]
     },
     "metadata": {},
     "output_type": "display_data"
    }
   ],
   "source": [
    "def dwell_stdev(df, num_boots=5000, isPlot=False):\n",
    "    \n",
    "    CI = np.array([0.0, 1.0])\n",
    "    #holds bootstrap standard deviations\n",
    "    bsSD = []\n",
    "    #number of bootstrap samples\n",
    "    for i in range(num_boots):\n",
    "        bootStrap = []\n",
    "        #pick 500 random samples from the original data, resampling IS allowed\n",
    "        for j in range(500):\n",
    "            bootStrap.append(random.choice(dwellTimes))\n",
    "        \n",
    "        #calculate mean of bootstrap sample\n",
    "        tmp = np.std(bootStrap)\n",
    "        bsSD.append(tmp)\n",
    "        #clear the list\n",
    "        del bootStrap[:]\n",
    "        \n",
    "    if isPlot: \n",
    "        fig, ax = plt.subplots(nrows=1, ncols=1, figsize=(12,6))\n",
    "        pd.Series(bsSD).hist(ax=ax, bins=20, color=\"steelblue\", normed=True, edgecolor=\"white\")\n",
    "        ax.grid(alpha=0.25)\n",
    "        ax.set_axisbelow(True)\n",
    "\n",
    "        ax.set_title(\"Bootstrap Standard Deviation\", fontsize = 20)\n",
    "        ax.set_xlabel(\"Time (minutes)\", fontsize = 16)\n",
    "        ax.set_ylabel(\"Frequency\", fontsize = 16)\n",
    "    \n",
    "    #calculates the CI with upper and lower bounds\n",
    "    lower = np.percentile(bsSD, 2.5)\n",
    "    upper = np.percentile(bsSD, 97.5)\n",
    "    CI = np.array([lower, upper])\n",
    "    \n",
    "    #show the CI \n",
    "    plt.axvline(lower, color=\"red\")\n",
    "    plt.axvline(upper, color=\"red\")\n",
    "    \n",
    "    return CI \n",
    "\n",
    "bootSD = dwell_stdev(dwellTimes, 5000, True)\n",
    "print(\"The bootstrapped confidence interval for the standard deviation with a 95% confidence level is: {}\".format(bootSD))"
   ]
  },
  {
   "cell_type": "markdown",
   "metadata": {},
   "source": [
    "Looking at the original graph with the mean around 8 it looks like most of the data is in between 4 - 12 so a standard deviation normal distribution about 4.5 makes sense."
   ]
  },
  {
   "cell_type": "markdown",
   "metadata": {},
   "source": [
    "**Part F**: Does the true standard deviation of the distribution fall inside your 95% bootstrapped confidence interval? "
   ]
  },
  {
   "cell_type": "code",
   "execution_count": 14,
   "metadata": {},
   "outputs": [
    {
     "name": "stdout",
     "output_type": "stream",
     "text": [
      "True Standard Deviation: 4.580324494542991\n",
      "Bootstrapped Standard Deviation CI: [ 4.05493018  5.10424812]\n"
     ]
    }
   ],
   "source": [
    "trueSD = np.std(dwellTimes)\n",
    "print(\"True Standard Deviation: {}\".format(trueSD))\n",
    "print(\"Bootstrapped Standard Deviation CI: {}\".format(bootSD))"
   ]
  },
  {
   "cell_type": "markdown",
   "metadata": {},
   "source": [
    "The true standard deviation does in fact fall inside my 95% bootstrapped confidence interval."
   ]
  },
  {
   "cell_type": "markdown",
   "metadata": {},
   "source": [
    "**Part G**: Complete the function dwell_med below to create an empirical bootstrapped confidence interval at the 95% confidence level for the median dwell time.  Use at least 5000 bootstrap resamples. In addition to returning the confidence interval, your function should also plot a histogram of the bootstrap resample medians including some graphical indication of the 95% confidence interval.  "
   ]
  },
  {
   "cell_type": "code",
   "execution_count": 15,
   "metadata": {},
   "outputs": [
    {
     "name": "stdout",
     "output_type": "stream",
     "text": [
      "The bootstrapped confidence interval for the median with a 95% confidence level is: [ 7.06168331  8.03146165]\n"
     ]
    },
    {
     "data": {
      "image/png": "[encoded data removed]",
      "text/plain": [
       "<matplotlib.figure.Figure at 0x7f97697522b0>"
      ]
     },
     "metadata": {},
     "output_type": "display_data"
    }
   ],
   "source": [
    "def dwell_med(df, num_boots=5000, isPlot=False):\n",
    "    \n",
    "    CI = np.array([0.0, 1.0])\n",
    "    #holds bootstrap medians\n",
    "    bsMedian = []\n",
    "    #number of bootstrap samples\n",
    "    for i in range(num_boots):\n",
    "        bootStrap = []\n",
    "        #pick 500 random samples from the original data, resampling IS allowed\n",
    "        for j in range(500):\n",
    "            bootStrap.append(random.choice(dwellTimes))\n",
    "        \n",
    "        #calculate mean of bootstrap sample\n",
    "        tmp = np.median(bootStrap)\n",
    "        bsMedian.append(tmp)\n",
    "        #clear the list\n",
    "        del bootStrap[:]\n",
    "        \n",
    "    if isPlot: \n",
    "        fig, ax = plt.subplots(nrows=1, ncols=1, figsize=(12,6))\n",
    "        pd.Series(bsMedian).hist(ax=ax, bins=20, color=\"steelblue\", normed=True, edgecolor=\"white\")\n",
    "        ax.grid(alpha=0.25)\n",
    "        ax.set_axisbelow(True)\n",
    "\n",
    "        ax.set_title(\"Bootstrap Median\", fontsize = 20)\n",
    "        ax.set_xlabel(\"Time (minutes)\", fontsize = 16)\n",
    "        ax.set_ylabel(\"Frequency\", fontsize = 16)\n",
    "    \n",
    "    #calculates the CI with upper and lower bounds\n",
    "    lower = np.percentile(bsMedian, 2.5)\n",
    "    upper = np.percentile(bsMedian, 97.5)\n",
    "    CI = np.array([lower, upper])\n",
    "    \n",
    "    #show the CI \n",
    "    plt.axvline(lower, color=\"red\")\n",
    "    plt.axvline(upper, color=\"red\")\n",
    "    \n",
    "    return CI \n",
    "\n",
    "bootMedian = dwell_med(dwellTimes, 5000, True)\n",
    "print(\"The bootstrapped confidence interval for the median with a 95% confidence level is: {}\".format(bootMedian))"
   ]
  },
  {
   "cell_type": "markdown",
   "metadata": {},
   "source": [
    "Again, looking at the original graph I would say a median of about 7.5 seems reasonable to me."
   ]
  },
  {
   "cell_type": "markdown",
   "metadata": {},
   "source": [
    "**Part H**: Does the true median of the distribution fall inside your 95% bootstrapped confidence interval? "
   ]
  },
  {
   "cell_type": "code",
   "execution_count": 16,
   "metadata": {},
   "outputs": [
    {
     "name": "stdout",
     "output_type": "stream",
     "text": [
      "True Median: 7.511622989136676\n",
      "Bootstrapped Median CI: [ 7.06168331  8.03146165]\n"
     ]
    }
   ],
   "source": [
    "trueMedian = np.median(dwellTimes)\n",
    "print(\"True Median: {}\".format(trueMedian))\n",
    "print(\"Bootstrapped Median CI: {}\".format(bootMedian))"
   ]
  },
  {
   "cell_type": "markdown",
   "metadata": {},
   "source": [
    "The true median does in fact fall inside my 95% bootstrapped confidence interval."
   ]
  },
  {
   "cell_type": "markdown",
   "metadata": {},
   "source": [
    "### [15 points] Problem 6 - Autograding Simulation Homework \n",
    "***\n",
    "\n",
    "Suppose that you are the grader for an Introduction to Data Science course and your boss has asked you to write an autograder for a homework problem on simulation.  Specifically, students have been asked to write a simulation to estimate the expected number of rolls it will take until doubles are rolled with a pair of fair, six-sided dice (i.e. until both dice show the same value).  The students have been asked to structure their code so that it runs many trials of the experiment and returns the sample mean of the trials, as well as an array containing the result of each individual trial. \n",
    "\n",
    "The solutions submitted by three students in the course are given below. "
   ]
  },
  {
   "cell_type": "code",
   "execution_count": 17,
   "metadata": {
    "collapsed": true
   },
   "outputs": [],
   "source": [
    "def student1(num_trials=5000):\n",
    "    t = np.zeros(num_trials)\n",
    "    for ii in range(num_trials):\n",
    "        ctr = 0\n",
    "        while np.random.choice([1,2,3,4,5,6]) != np.random.choice([1,2,3,4,5,6]):\n",
    "            ctr += 1 \n",
    "        t[ii] = ctr \n",
    "    return np.mean(t), t\n",
    "\n",
    "def student2(num_trials=5000):\n",
    "    t = np.zeros(num_trials)\n",
    "    for ii in range(num_trials):\n",
    "        ctr = 1\n",
    "        while int(6*np.random.uniform(0,1)+1) != int(6*np.random.uniform(0,1)+1):\n",
    "            ctr += 1 \n",
    "        t[ii] = ctr \n",
    "    return np.mean(t), t\n",
    "\n",
    "def student3(num_trials=5000):\n",
    "    t = np.random.exponential(6, size=num_trials)\n",
    "    return np.mean(t), t "
   ]
  },
  {
   "cell_type": "markdown",
   "metadata": {},
   "source": [
    "Now, you landed this job at the last minute, and your probability theory is a little rusty.  Luckily, your boss has given you her solution to the problem which is shown below: "
   ]
  },
  {
   "cell_type": "code",
   "execution_count": 18,
   "metadata": {
    "collapsed": true
   },
   "outputs": [],
   "source": [
    "def prof(num_trials=5000):\n",
    "    t = np.random.geometric(1/6, size=num_trials)\n",
    "    return np.mean(t), t"
   ]
  },
  {
   "cell_type": "markdown",
   "metadata": {},
   "source": [
    "Knowing that your probability theory is rusty, your boss has suggested that your autograder be constructed solely based on confidence intervals to compare the students' estimates of the expected value of the experiment to her own estimate.  Finally, although there are only examples from three students above, there are actually more than 100 students in the course, so tailoring your tests to features of individual students' code is out of the question. \n",
    "\n",
    "**Part A**: Complete the function autograder below, which takes in the realizations of the trials from your professor's code and one of the students' codes, as well as the $\\alpha$ for a $100(1-\\alpha)\\%$ confidence interval and returns a string indicating whether the student passed or failed the test. **Clearly** indicate what statistical test(s) your autograder is using and why this is a good idea.  Then demonstrate the use of your autograder to grade the three student solutions above based on a 95% confidence level. "
   ]
  },
  {
   "cell_type": "code",
   "execution_count": 19,
   "metadata": {},
   "outputs": [
    {
     "name": "stdout",
     "output_type": "stream",
     "text": [
      "The professor's CI: 5.945450209221353 to 6.125349790778647\n",
      "Student's answer: 4.9912 - Failed \n",
      "\n",
      "The professor's CI: 5.962629511429078 to 6.142170488570921\n",
      "Student's answer: 5.9705 - Passed \n",
      "\n",
      "The professor's CI: 5.86000363228224 to 6.04099636771776\n",
      "Student's answer: 5.94240960050255 - Passed \n",
      "\n"
     ]
    }
   ],
   "source": [
    "def autograder(pf, st, alpha=0.05):\n",
    "    \n",
    "    profMean, profArray = pf\n",
    "    studentMean, studentArray = st\n",
    "    \n",
    "    #use professor's CI to compare to student's answers\n",
    "    standardError = scipy.stats.sem(profArray)\n",
    "    z = scipy.stats.norm.ppf((1 - alpha))\n",
    "    tmp = z * standardError\n",
    "    \n",
    "    lower = profMean - tmp\n",
    "    upper = profMean + tmp\n",
    "    \n",
    "    if(lower <= studentMean <= upper):\n",
    "        print(\"The professor's CI: {} to {}\".format(lower, upper))\n",
    "        print(\"Student's answer: {} - Passed \\n\".format(studentMean))\n",
    "    else:\n",
    "        print(\"The professor's CI: {} to {}\".format(lower, upper))\n",
    "        print(\"Student's answer: {} - Failed \\n\".format(studentMean))\n",
    "        \n",
    "autograder(prof(10000), student1(10000))\n",
    "autograder(prof(10000), student2(10000))\n",
    "autograder(prof(10000), student3(10000))"
   ]
  },
  {
   "cell_type": "markdown",
   "metadata": {},
   "source": [
    "This autograder computes the professor's 95% confidence interval for the correct answer and compares it to the students answer. If the students answer is insde that CI the student passed otherwise they failed. An issue with this autograder is that the professor's CI changes slightly everytime (even with larger n) and so it may not always be entirely fair for the students grade."
   ]
  },
  {
   "cell_type": "markdown",
   "metadata": {},
   "source": [
    "**[Extra Credit] Part B**: You realize that tests based solely on the estimate of the mean are not robust.  Come up with a better autograder that, again using tests based on confidence intervals, compares the students' solutions to the professor's solutions on statistical properties beyond just the mean. Again, **clearly** motivate the features of your autograder based on theory developed in class.    "
   ]
  },
  {
   "cell_type": "code",
   "execution_count": null,
   "metadata": {
    "collapsed": true
   },
   "outputs": [],
   "source": []
  }
 ],
 "metadata": {
  "kernelspec": {
   "display_name": "Python 3",
   "language": "python",
   "name": "python3"
  },
  "language_info": {
   "codemirror_mode": {
    "name": "ipython",
    "version": 3
   },
   "file_extension": ".py",
   "mimetype": "text/x-python",
   "name": "python",
   "nbconvert_exporter": "python",
   "pygments_lexer": "ipython3",
   "version": "3.6.1"
  }
 },
 "nbformat": 4,
 "nbformat_minor": 2
}
