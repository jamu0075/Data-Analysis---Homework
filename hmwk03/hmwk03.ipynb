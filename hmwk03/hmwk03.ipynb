{
 "cells": [
  {
   "cell_type": "markdown",
   "metadata": {},
   "source": [
    "# Homework 3: Random Variables and Their Distributions\n",
    "***\n",
    "\n",
    "**Name**: Jacob Munoz (Collaborated with Kelsey Adams and Andrew Fay)\n",
    "\n",
    "**Section**: 001\n",
    "***\n",
    "\n",
    "This assignment is due on Moodle by **5pm on Friday October 13th**. Your solutions to theoretical questions should be done in Markdown/MathJax directly below the associated question.  Your solutions to computational questions should include any specified Python code and results as well as written commentary on your conclusions.  Remember that you are encouraged to discuss the problems with your instructors and classmates, but **you must write all code and solutions on your own**.  For a refresher on the course **Collaboration Policy** click [here](https://github.com/chrisketelsen/csci3022/blob/master/resources/syllabus.md#collaboration-policy).  \n",
    "\n",
    "**NOTES**: \n",
    "\n",
    "- Do **NOT** load or use any Python packages that are not available in Anaconda 3.6. \n",
    "- Some problems with code may be autograded.  If we provide a function API **do not** change it.  If we do not provide a function API then you're free to structure your code however you like. \n",
    "- Because you can technically evaluate notebook cells is a non-linear order, it's a good idea to do Cell $\\rightarrow$ Run All as a check before submitting your solutions.  That way if we need to run your code you will know that it will work as expected. \n",
    "- Submit only this Jupyter notebook to Moodle.  Do not compress it using tar, rar, zip, etc. "
   ]
  },
  {
   "cell_type": "code",
   "execution_count": 1,
   "metadata": {
    "collapsed": true,
    "scrolled": true
   },
   "outputs": [],
   "source": [
    "import pandas as pd\n",
    "import numpy as np\n",
    "import matplotlib.pylab as plt\n",
    "import random\n",
    "import math\n",
    "\n",
    "from scipy.special import binom\n",
    "%matplotlib inline"
   ]
  },
  {
   "cell_type": "markdown",
   "metadata": {},
   "source": [
    "### [15 points] Problem 1 \n",
    "***\n",
    "\n",
    "A young boy and an old woman are playing [tic tac toe](https://en.wikipedia.org/wiki/Tic-tac-toe). Unfortunately, the boy is too young to know the strategy and the old woman can't see the board well enough to enact a strategy. Nevertheless, they are content to play games with each other. The boy plays first and randomly places an X in an open square. The woman plays next, and randomly places an O in one of the remaining open squares. They each play randomly until someone gets three in a row, and then start a new game. Estimate, via simulation, the probability that the boy wins.\n",
    "\n",
    "**Note**: Part of the goal of this exercises is to give you more practice structuring a simulation. Definitely don't be afraid to write helper functions that get called from your main simulation routine. Things you might want to do modularly are (i) play a single game of tic-tac-toe, (ii) place an $X$ or an $O$ on an free square, or (iii) check if someone has one the game. This problem will not be autograded so feel free to get creative.  Just make sure to clearly display your results in code output and summarize things in Markdown. "
   ]
  },
  {
   "cell_type": "code",
   "execution_count": 107,
   "metadata": {},
   "outputs": [
    {
     "name": "stdout",
     "output_type": "stream",
     "text": [
      "The probability that the boy will win is: 59.18%\n"
     ]
    }
   ],
   "source": [
    "def placeX(board):\n",
    "    squareRow = random.randint(0, 2)\n",
    "    squareCol = random.randint(0,2)\n",
    "    if(board[squareRow][squareCol] != 'x' and board[squareRow][squareCol] != 'o'):\n",
    "        board[squareRow][squareCol] = 'x'\n",
    "        return\n",
    "    else:\n",
    "        placeX(board)\n",
    "\n",
    "def placeO(board):\n",
    "    squareRow = random.randint(0, 2)\n",
    "    squareCol = random.randint(0,2)\n",
    "    if(board[squareRow][squareCol] != 'x' and board[squareRow][squareCol] != 'o'):\n",
    "        board[squareRow][squareCol] = 'o'\n",
    "        return\n",
    "    else:\n",
    "        placeO(board)\n",
    "\n",
    "def play():\n",
    "    #2D list to represent the board, seperated by rows\n",
    "    board = [['0', '1', '2'], ['3', '4', '5'], ['6', '7', '8']]\n",
    "    isWinner = False\n",
    "    boyWin = 0\n",
    "    while(isWinner == False):\n",
    "        if(board[0][0] == '0' or board[0][1] == '1' or board[0][2] == '2' or board[1][0] == '3' or board[1][1] == '4' or board[1][2] == '5' or board[2][0] == '6' or board[2][1] == '7' or board[2][2] == '8'):\n",
    "            placeX(board)\n",
    "            if(board[0][0] == '0' or board[0][1] == '1' or board[0][2] == '2' or board[1][0] == '3' or board[1][1] == '4' or board[1][2] == '5' or board[2][0] == '6' or board[2][1] == '7' or board[2][2] == '8'):\n",
    "                placeO(board)\n",
    "        else:\n",
    "            return 0\n",
    "            \n",
    "        if(board[0][0] == 'x' and board[0][1] == 'x' and board[0][2] == 'x'):\n",
    "            isWinner = True\n",
    "            boyWin = 1\n",
    "        elif(board[1][0] == 'x' and board[1][1] == 'x' and board[1][2] == 'x'):\n",
    "            isWinner = True\n",
    "            boyWin = 1\n",
    "        elif(board[2][0] == 'x' and board[2][1] == 'x' and board[2][2] == 'x'):\n",
    "            isWinner = True\n",
    "            boyWin = 1\n",
    "        elif(board[0][0] == 'x' and board[1][0] == 'x' and board[2][0] == 'x'):\n",
    "            isWinner = True\n",
    "            boyWin = 1\n",
    "        elif(board[0][1] == 'x' and board[1][1] == 'x' and board[2][1] == 'x'):\n",
    "            isWinner = True\n",
    "            boyWin = 1\n",
    "        elif(board[0][2] == 'x' and board[1][2] == 'x' and board[2][2] == 'x'):\n",
    "            isWinner = True\n",
    "            boyWin = 1\n",
    "        elif(board[0][0] == 'x' and board[1][1] == 'x' and board[2][2] == 'x'):\n",
    "            isWinner = True\n",
    "            boyWin = 1\n",
    "        elif(board[0][2] == 'x' and board[1][1] == 'x' and board[2][0] == 'x'):\n",
    "            isWinner = True\n",
    "            boyWin = 1\n",
    "        elif(board[0][0] == 'o' and board[0][1] == 'o' and board[0][2] == 'o'):\n",
    "            isWinner = True \n",
    "        elif(board[1][0] == 'o' and board[1][1] == 'o' and board[1][2] == 'o'):\n",
    "            isWinner = True\n",
    "        elif(board[2][0] == 'o' and board[2][1] == 'o' and board[2][2] == 'o'):\n",
    "            isWinner = True\n",
    "        elif(board[0][0] == 'o' and board[1][0] == 'o' and board[2][0] == 'o'):\n",
    "            isWinner = True\n",
    "        elif(board[0][1] == 'o' and board[1][1] == 'o' and board[2][1] == 'o'):\n",
    "            isWinner = True\n",
    "        elif(board[0][2] == 'o' and board[1][2] == 'o' and board[2][2] == 'o'):\n",
    "            isWinner = True\n",
    "        elif(board[0][0] == 'o' and board[1][1] == 'o' and board[2][2] == 'o'):\n",
    "            isWinner = True\n",
    "        elif(board[0][2] == 'o' and board[1][1] == 'o' and board[2][0] == 'o'):\n",
    "            isWinner = True\n",
    "            \n",
    "    return boyWin\n",
    "\n",
    "boyWin = 0\n",
    "for i in range(5000):\n",
    "    boyWin = boyWin + play()\n",
    "    boyProb = (boyWin / 5000) * 100\n",
    "print ('The probability that the boy will win is: {}%'.format(boyProb))"
   ]
  },
  {
   "cell_type": "markdown",
   "metadata": {},
   "source": [
    "I went about this problem by creating a 2D list to represent the board. I would call the turns placeX and placO if and only if there is an open spot left on the board to avoid segfaults. I call placeX first so the boy goes first then after his turn placeO. After their turns I check for all cases of a winning combination. I start by checking for x wins first to account for the fact that both players place an x or o before checking for a win. By checking for x wins first (since x played first) it fixes this issue. The function returns 1 or 0, 1 for a boy win and 0 for a boy loss. I then simply play many games and average the win rate to see that on average the boy is more likely to win since he placed his x first."
   ]
  },
  {
   "cell_type": "markdown",
   "metadata": {},
   "source": [
    "### [20 points] Problem 2 \n",
    "***\n",
    "\n",
    "Let $X$ be the lifespan (in years) of a BF Goodrich Rugged Trail T/A tire under normal driving conditions, and suppose $X$ is described by the following probability density function: \n",
    "\n",
    "$$\n",
    "f(x) = \\left\\{ \n",
    "\\begin{array}{ll}\n",
    "\\dfrac{10}{cx^2} & 1 \\leq x \\leq 10 \\\\\n",
    "0 & \\textrm{otherwise}\n",
    "\\end{array}\n",
    "\\right.\n",
    "$$\n",
    "\n",
    "**Part A**: Determine the value of $c$ such that $f(x)$ is a valid density function. "
   ]
  },
  {
   "cell_type": "markdown",
   "metadata": {
    "collapsed": true
   },
   "source": [
    "$\\frac{1}{c}\\int_1^{10} \\mathrm{\\frac{10}{x^2}}\\,\\mathrm{d}x$ = 1  \n",
    "\n",
    "$\\frac{1}{c}\\left(-\\frac{10}{cx}\\right)$(evaluated at 10 and 1) = 1  \n",
    "\n",
    "$\\frac{1}{c}$[(-1) - (-10)] = 1  \n",
    "\n",
    "$\\frac{1}{c}$(9) = 1  \n",
    "\n",
    "c = 9"
   ]
  },
  {
   "cell_type": "markdown",
   "metadata": {},
   "source": [
    "**Part B**: Compute the cumulative distribution function $F(y)$ for $X$. "
   ]
  },
  {
   "cell_type": "markdown",
   "metadata": {
    "collapsed": true
   },
   "source": [
    "F(y) = $\\int_1^y \\mathrm{\\frac{10}{9x^2}}\\,\\mathrm{d}x$  \n",
    "\n",
    "= $\\left(-\\frac{10}{9x}\\right)$(evaluated at y and 1)  \n",
    "\n",
    "= -$\\frac{10}{9y}$ + $\\frac{10}{9}$  \n",
    "\n",
    "Therefore:  \n",
    "\n",
    "$$F(y)=\\cases{\n",
    "    0 ~\\text{for y < 1} \\\\\n",
    "    -\\frac{10}{9y} + \\frac{10}{9} ~\\text{for}~1 \\leq y \\leq 10 \\\\\n",
    "    1 ~\\text{for y > 10} \\\\\n",
    "}$$"
   ]
  },
  {
   "cell_type": "markdown",
   "metadata": {},
   "source": [
    "**Part C**: Use the cdf you computed in **Part B** to find the probability that a single tire goes longer than 8 years without failing. "
   ]
  },
  {
   "cell_type": "markdown",
   "metadata": {
    "collapsed": true
   },
   "source": [
    "The probabilty that a tire lasts longer than 8 years is (1 - F(8)) therefore:  \n",
    "\n",
    "= (1 - ($-\\frac{10}{72} + \\frac{10}{9}$))  \n",
    "\n",
    "= 1 - .9722 = 0.0277 \n",
    "\n",
    "Meaning a tire has a 0.0277% chance of lasting longer than 8 years."
   ]
  },
  {
   "cell_type": "markdown",
   "metadata": {},
   "source": [
    "**Part D**: Use the cdf you computed in **Part B** to determine the number of years within which $90\\%$ of all tires will need to be replaced. In other words, determine the 90th percentile of the distribution of $X$. "
   ]
  },
  {
   "cell_type": "markdown",
   "metadata": {
    "collapsed": true
   },
   "source": [
    ".90 = F($y_{.90}$)  \n",
    "\n",
    ".90 = $-\\frac{10}{9y_{.90}} + \\frac{10}{9}$  \n",
    "\n",
    "$y_{.90}$ = $\\frac{-10}{\\left((\\frac{9}{10} - \\frac{10}{9}) * 9 \\right)}$  \n",
    "\n",
    "$y_{.90}$ = 5.263  \n",
    "\n",
    "Meaning that 90% of tires will need to be replaced around 5$\\frac{1}{4}$ years."
   ]
  },
  {
   "cell_type": "markdown",
   "metadata": {},
   "source": [
    "**Part E**: What is the probability that all four BF Goodrich Rugged Trail T/A tires on a vehicle last longer than 8 years without failing? "
   ]
  },
  {
   "cell_type": "markdown",
   "metadata": {
    "collapsed": true
   },
   "source": [
    "This can be seen as the chance a tire lasts longer than 8 years AND another one AND so on for 4 tires. Since the chance any given tire is 0.0277, we have:  \n",
    "\n",
    "(.0277)(.0277)(.0277)(.0277) = 0.000000588% chance of all 4 tires lasting longer than 8 years"
   ]
  },
  {
   "cell_type": "markdown",
   "metadata": {},
   "source": [
    "### [20 points] Problem 3 \n",
    "***\n",
    "\n",
    "Let $X =$ the leading digit of a randomly selected number from a large accounting\n",
    "ledger. For example, if we randomly draw the number \\$20,695, then $X = 2.$\n",
    "People who make up numbers to commit accounting fraud tend to give $X$ a\n",
    "(discrete) uniform distribution, i.e., $P(X = x) = \\frac{1}{9}$, for $x \\in \\{1, ..., 9\\}$. However,\n",
    "there is empirical evidence that suggests that _naturally occurring_ numbers (e.g.,\n",
    "numbers in a non-fraudulent accounting ledgers) have leading digits that do not\n",
    "follow a uniform distribution. Instead, they follow a distribution defined by the following probability mass function:\n",
    "\n",
    "$$\n",
    "f(x) = \\log_{10}\\left( \\frac{x+1}{x} \\right) \\quad \\textrm{for } x = 1, 2, \\ldots, 9\n",
    "$$"
   ]
  },
  {
   "cell_type": "markdown",
   "metadata": {},
   "source": [
    "**Part A**: Write a function pmf_natural that implements $f(x)$. Your function should take in an integer $x$ and return $f(x) = P(X = x)$.  Use your function to argue that $f(x)$ is a well-defined probability mass function. "
   ]
  },
  {
   "cell_type": "code",
   "execution_count": 3,
   "metadata": {
    "collapsed": true
   },
   "outputs": [],
   "source": [
    "def pmf_natural(x):\n",
    "    pmf = math.log10((x + 1)/x)\n",
    "    return pmf "
   ]
  },
  {
   "cell_type": "markdown",
   "metadata": {},
   "source": [
    "**Part B**: Use the function you wrote above to make stacked bar plots describing the pmf of the naturally occurring numbers as well as the discrete uniform distribution.  Make sure that the $x$- and $y$-limits on your plots are the same so that the two distributions are easy to compare. "
   ]
  },
  {
   "cell_type": "code",
   "execution_count": 4,
   "metadata": {},
   "outputs": [
    {
     "data": {
      "text/plain": [
       "<Container object of 9 artists>"
      ]
     },
     "execution_count": 4,
     "metadata": {},
     "output_type": "execute_result"
    },
    {
     "data": {
      "image/png": "[encoded data removed]",
      "text/plain": [
       "<matplotlib.figure.Figure at 0x7fd784dd17f0>"
      ]
     },
     "metadata": {},
     "output_type": "display_data"
    }
   ],
   "source": [
    "z = np.random.randint(1, 10, size=10000)\n",
    "\n",
    "fig, ax = plt.subplots(nrows=1, ncols=1, figsize=(10,4))\n",
    "pd.Series(z).hist(ax=ax, bins=9, color=\"steelblue\", normed=True, edgecolor=\"white\")\n",
    "ax.grid(alpha=0.25)\n",
    "ax.set_axisbelow(True)\n",
    "plt.xticks(range(0,11));\n",
    "ax.set_xlim([0,10])\n",
    "ax.set_ylim([0,.5])\n",
    "\n",
    "ax.set_title(\"Fraudulent(Steal Blue) VS. Naturally occurring(Dark Blue) Distribution\", fontsize = 20)\n",
    "ax.set_xlabel(\"Number\", fontsize = 16)\n",
    "ax.set_ylabel(\"Frequency\", fontsize = 16)\n",
    "\n",
    "#=====================================================================================\n",
    "\n",
    "y = []\n",
    "for i in range(1, 10):\n",
    "    y.append(pmf_natural(i))\n",
    "    \n",
    "x = [1, 2, 3, 4, 5, 6, 7, 8, 9]\n",
    "width = 1/1.5\n",
    "plt.bar(x, y, width, color=\"blue\")"
   ]
  },
  {
   "cell_type": "markdown",
   "metadata": {},
   "source": [
    "Comparing the two distributions you can see that the fraudulent data follows a uniform distribution, probably because a person is attempting to randomize the numbers to appear legitimate. However, the naturally occurring data follows a right skewed distribution."
   ]
  },
  {
   "cell_type": "markdown",
   "metadata": {},
   "source": [
    "**Part C**: Write a function cdf_natural that implements the cumulative distribution function $F(y)$ for $X$ and use it to compute the probability that the leading digit in a number is at most 4 and at most 5. "
   ]
  },
  {
   "cell_type": "code",
   "execution_count": 5,
   "metadata": {},
   "outputs": [
    {
     "name": "stdout",
     "output_type": "stream",
     "text": [
      "The probability that the leading digit is at most 4 is: 0.6989700043360189\n",
      "The probability that the leading digit is at most 5 is: 0.7781512503836436\n"
     ]
    }
   ],
   "source": [
    "def cdf_natural(y):\n",
    "    #add 1 to account for range\n",
    "    y = y + 1\n",
    "    prob = 0\n",
    "    for i in range(y):\n",
    "        if(i != 0):\n",
    "            prob = prob + pmf_natural(i)\n",
    "    return prob\n",
    "print(\"The probability that the leading digit is at most 4 is: {}\".format(cdf_natural(4)))\n",
    "print(\"The probability that the leading digit is at most 5 is: {}\".format(cdf_natural(5)))"
   ]
  },
  {
   "cell_type": "markdown",
   "metadata": {},
   "source": [
    "**Part D**: The data in tax_data.txt contains the taxable income for individuals in 1978. Use Pandas and the information from **Parts A-D** to determine whether or not the dataset is likely fraudulent.  In addition to code and any graphical summaries, make sure to clearly justify your conclusion in words. "
   ]
  },
  {
   "cell_type": "code",
   "execution_count": 7,
   "metadata": {},
   "outputs": [
    {
     "data": {
      "text/plain": [
       "<matplotlib.text.Text at 0x7fd7818e62b0>"
      ]
     },
     "execution_count": 7,
     "metadata": {},
     "output_type": "execute_result"
    },
    {
     "data": {
      "image/png": "[encoded data removed]",
      "text/plain": [
       "<matplotlib.figure.Figure at 0x7fd78b7eada0>"
      ]
     },
     "metadata": {},
     "output_type": "display_data"
    }
   ],
   "source": [
    "import re\n",
    "file = open('tax_data.txt', 'r')\n",
    "file = file.read()\n",
    "\n",
    "#reads in all numbers from file into a list to work with, includings index numbers\n",
    "#from stack overflow https://stackoverflow.com/questions/26824643/how-to-extract-only-numbers-from-input-file-numbers-can-be-float-int\n",
    "taxData = re.findall(r\"[-+]?\\d*\\.\\d+|\\d+\", file)\n",
    "\n",
    "#removes index numbers by taking every other element from the list\n",
    "taxData = taxData[1::2]\n",
    "\n",
    "#removes all but the first number and converts to float to compare to fraudulent data\n",
    "taxData_first = [float(i[:1]) for i in taxData]\n",
    "\n",
    "fig, ax = plt.subplots(nrows=1, ncols=1, figsize=(10,4))\n",
    "pd.Series(taxData_first).hist(ax=ax, bins=9, color=\"steelblue\", normed=True, edgecolor=\"white\")\n",
    "ax.grid(alpha=0.25)\n",
    "ax.set_axisbelow(True)\n",
    "plt.xticks(range(0,11));\n",
    "ax.set_xlim([0,10])\n",
    "ax.set_ylim([0,.5])\n",
    "\n",
    "ax.set_title(\"Tax Data Starting Numbers\", fontsize = 20)\n",
    "ax.set_xlabel(\"Number\", fontsize = 16)\n",
    "ax.set_ylabel(\"Frequency\", fontsize = 16)"
   ]
  },
  {
   "cell_type": "markdown",
   "metadata": {},
   "source": [
    "Comparing the graph to the graphs of fraudulent and real starting numbers, I think it is safe to say that this data is fraudulent. It tends to follow a frequency much more closey to that of fradulent data, having 1 and 9 appear slightly more often could simply be human nature in an attempt to cover their tracks. However, the mostly uniform distribution is that of the fraudulent graph."
   ]
  },
  {
   "cell_type": "markdown",
   "metadata": {},
   "source": [
    "### [25 points] Problem 4 \n",
    "***\n",
    "\n",
    "You are a data-driven transportation engineer investigating the effect that a particular [vertical lift bridge](https://en.wikipedia.org/wiki/Vertical-lift_bridge) has on city traffic.  Every time a boat passes under the bridge, cars must stop while the bridge is raised to accommodate the height of the boat.  As both boat and car traffic increases, city planners are considering building a new taller bridge that will never impede the flow of traffic. As part of a larger simulation of traffic congestion, you need to decide how to model the arrival of boats at the bridge.  From your Intro to Data Science class you remember that the time _between_ independent arrivals are usually modeled by an Exponential distribution.  Finally, you have access to a report that says on average 20 boats cross under the bridge per day.\n",
    "\n",
    "Answer the following questions about this scenario. **Note** that for **Parts B-D** you should clearly express the computation you're doing with math, but feel free to do any fancy function evaluations with Python. \n",
    "\n",
    "**Part A**:  Assuming the between-boat times do in-fact follow $Exp(20)$, what distribution would you expect the **number** of boats that cross under the bridge on a given day to follow?  What are the parameter(s) of the distribution? "
   ]
  },
  {
   "cell_type": "markdown",
   "metadata": {
    "collapsed": true
   },
   "source": [
    "Given that the rate at which boats travel under the bridge is 20 boats per day, we know that there will be roughly $\\frac{1}{20}$th's of a day between boats which is 1.2 hours between.Since the boats are random independent variables the PDF distribution of boats crossing should be a normal distribution and the CDF should be exponential"
   ]
  },
  {
   "cell_type": "markdown",
   "metadata": {},
   "source": [
    "**Part B**:  What is the probability that 25 boats cross under the bridge on a particular day?"
   ]
  },
  {
   "cell_type": "markdown",
   "metadata": {
    "collapsed": true
   },
   "source": [
    "Using the Poisson probability mass function with $\\lambda$ = 20:  \n",
    "\n",
    "$\\frac{e^{-20}20^{25}}{25!}$ = 0.0446  \n",
    "\n",
    "Therefore there is a 4.46% chance that 25 boats cross under the bridge."
   ]
  },
  {
   "cell_type": "markdown",
   "metadata": {},
   "source": [
    "**Part C**:  What is the probability that 15 boats or fewer cross under the bridge on a particular day?"
   ]
  },
  {
   "cell_type": "markdown",
   "metadata": {
    "collapsed": true
   },
   "source": [
    "$\\sum_{x = 0}^{15} \\frac{e^{-20}20^x}{x!}$ = 0.157  \n",
    "\n",
    "Therefore there is a 15.7% chance that 15 boats or fewer cross under the bridge."
   ]
  },
  {
   "cell_type": "markdown",
   "metadata": {},
   "source": [
    "**Part D**: What is the probability that between 1 and 2 hours pass between two boat crossings? "
   ]
  },
  {
   "cell_type": "markdown",
   "metadata": {
    "collapsed": true
   },
   "source": [
    "The probability that there will be 1 hour between boat crossings is:  \n",
    "\n",
    "$\\frac{(1.2*1)^0(e^{-1.2*1})}{0!}$ = 0.301  \n",
    "\n",
    "And the probability that there will be 2 hours between boat crossings is:  \n",
    "\n",
    "$\\frac{(1.2*2)^0(e^{-1.2*2})}{0!}$ = 0.091  \n",
    "\n",
    "With P(1 < x < 2) = P(x < 2) - P(x < 1):  \n",
    "\n",
    "$(1 - e^{-20*\\frac{2}{24}}) - (1 - e^{-20*\\frac{1}{24}})$ = .246  \n",
    "\n",
    "Therefore there is a 24.6% chance that between 1-2 hours will pass bewteen two boats crossing."
   ]
  },
  {
   "cell_type": "markdown",
   "metadata": {},
   "source": [
    "**Part F**: Write a function boat_count that takes as it's sole argument the rate parameter $\\lambda$ with units boats per day. Your function should simulate boat arrivals at the bridge by sampling between-boat times from $Exp(\\lambda)$ via Numpy's [random.exponential](https://docs.scipy.org/doc/numpy-1.13.0/reference/generated/numpy.random.exponential.html) function and return the number of boats that pass under the bridge on a single simulated day. \n",
    "\n",
    "**Note**: Do not change the API for this function.  "
   ]
  },
  {
   "cell_type": "code",
   "execution_count": 16,
   "metadata": {},
   "outputs": [
    {
     "data": {
      "text/plain": [
       "24"
      ]
     },
     "execution_count": 16,
     "metadata": {},
     "output_type": "execute_result"
    }
   ],
   "source": [
    "def boat_count(lam):\n",
    "    boatCount = 0\n",
    "    totalTime= 0\n",
    "    for i in range(50):\n",
    "        if(totalTime < 1):\n",
    "            boatTimes = np.random.exponential(scale = (1 / lam))\n",
    "            if(totalTime + boatTimes > 1):\n",
    "                return boatCount\n",
    "            totalTime = totalTime + boatTimes\n",
    "            boatCount = boatCount + 1\n",
    "        else:\n",
    "            return boatCount"
   ]
  },
  {
   "cell_type": "markdown",
   "metadata": {},
   "source": [
    "**Part G**: Write a function boat_count_sim that takes as arguments the rate parameter $\\lambda$ with units boats per day and an integer number of days to simulate. Your function should use the function you wrote in **Part F** to simulate many independent days of boat crossings and estimate the probability that 15 boats or fewer cross under the bridge on a particular day. For $\\lambda = 20$, does your estimate agree with the by-hand computation you did in **Part C**?  \n",
    "\n",
    "**Note**: Do not change the API for this function.  "
   ]
  },
  {
   "cell_type": "code",
   "execution_count": 109,
   "metadata": {},
   "outputs": [
    {
     "name": "stdout",
     "output_type": "stream",
     "text": [
      "The simulation says the probability that 15 boats or less cross the bridge is: 15.620000000000001% \n"
     ]
    }
   ],
   "source": [
    "def boat_count_sim(lam, num_days=int(1e3)):\n",
    "    boats = []\n",
    "    count = 0\n",
    "    for i in range(num_days):\n",
    "        count = boat_count(lam)\n",
    "        boats.append(count)\n",
    "    total15 = sum(i < 16 for i in boats)\n",
    "    prob15 = total15 / num_days\n",
    "    return prob15\n",
    "temp = boat_count_sim(20, int(1e5)) * 100\n",
    "print('The simulation says the probability that 15 boats or less cross the bridge is: {}% '.format(temp))"
   ]
  },
  {
   "cell_type": "markdown",
   "metadata": {},
   "source": [
    "The simulation gives a probability very close to my answer from Part C so it is safe to say that my hand computations and simulation match up."
   ]
  },
  {
   "cell_type": "markdown",
   "metadata": {},
   "source": [
    "**Part H**: Write a function boat_time_sim that takes as arguments the rate parameter $\\lambda$ with units boats per day and an integer number of boat arrivals to simulate. Your function should sample boat arrivals via [np.random.exponential](https://docs.scipy.org/doc/numpy-1.13.0/reference/generated/numpy.random.exponential.html) and estimate the probability that boats arrive between 1 and 2 hours apart.  For $\\lambda = 20$, does your estimate agree with the by-hand computation you did in **Part D**?  \n",
    "\n",
    "**Note**: Do not change the API for this function.  \n"
   ]
  },
  {
   "cell_type": "code",
   "execution_count": 110,
   "metadata": {},
   "outputs": [
    {
     "name": "stdout",
     "output_type": "stream",
     "text": [
      "The simulation says the probability that 1-2 hours passes between boats is: 24.366% \n"
     ]
    }
   ],
   "source": [
    "def boat_time_sim(lam, num_boats=int(1e3)): \n",
    "    timeInterval = []\n",
    "    for i in range(num_boats):\n",
    "        boatTimes = np.random.exponential(scale = 1 / lam)\n",
    "        boatTimes = boatTimes * 24\n",
    "        timeInterval.append(boatTimes)\n",
    "    boatSum = sum(1 < i < 2 for i in timeInterval)\n",
    "    prob = boatSum / num_boats\n",
    "    return prob\n",
    "temp = boat_time_sim(20, int(1e5)) * 100\n",
    "print('The simulation says the probability that 1-2 hours passes between boats is: {}% '.format(temp))"
   ]
  },
  {
   "cell_type": "markdown",
   "metadata": {},
   "source": [
    "Again, the simulation gives a probability very close to my answer from Part D so it is safe to say that my hand computations and simulation match up."
   ]
  },
  {
   "cell_type": "markdown",
   "metadata": {},
   "source": [
    "### [20 points] Problem 5 \n",
    "***\n",
    "\n",
    "You are the team manager for the CU intramural Quidditch team, the Boulder Beaters, and you've just made it to the national championship series against the Stanford Snitching Snitches. The typical Quidditch championship is a best of 11 series, so the first team to win 6 matches is declared the winner.  Furthermore, based on a rigorous statistical analysis of regular season play, the probability that the Boulder Beaters win any one match against the Snitching Snitches is given by $p = 0.55$.  \n",
    "\n",
    "**Part A**: What is the probability that you win the 11-game series on the 8th match played? \n"
   ]
  },
  {
   "cell_type": "code",
   "execution_count": 58,
   "metadata": {},
   "outputs": [
    {
     "name": "stdout",
     "output_type": "stream",
     "text": [
      "The probability that the Boulder Beaters win on the 8th match played is: 17.2%\n"
     ]
    }
   ],
   "source": [
    "gamesWon = 0\n",
    "p = 0.55\n",
    "\n",
    "for i in range(1000):\n",
    "    roundsWon = 0\n",
    "    for j in range(8):\n",
    "        roundsWon = roundsWon + np.random.choice([0, 1], p = [1 - p, p])\n",
    "    if (roundsWon == 6):\n",
    "        gamesWon = gamesWon + 1\n",
    "        \n",
    "print('The probability that the Boulder Beaters win on the 8th match played is: {}%'.format((gamesWon / 1000) * 100))"
   ]
  },
  {
   "cell_type": "markdown",
   "metadata": {},
   "source": [
    "**Part B**: What is the probability that you win the 11-game series in any valid number of matches? "
   ]
  },
  {
   "cell_type": "code",
   "execution_count": 63,
   "metadata": {},
   "outputs": [
    {
     "name": "stdout",
     "output_type": "stream",
     "text": [
      "The probability that the Boulder Beaters win a series is: 62.2%\n"
     ]
    }
   ],
   "source": [
    "def series(p):\n",
    "    gamesWon = 0\n",
    "\n",
    "    for i in range(1000):\n",
    "        won = 0\n",
    "        lost = 0\n",
    "\n",
    "        for i in range(11):\n",
    "            game = np.random.choice([0, 1], p = [1 - p, p])\n",
    "            if(game == 1):\n",
    "                won = won + 1\n",
    "            else:\n",
    "                lost = lost + 1\n",
    "            if (won == 6):\n",
    "                gamesWon = gamesWon + 1\n",
    "                break\n",
    "            elif (lost == 6):\n",
    "                break\n",
    "    return gamesWon\n",
    "temp = series(0.55)\n",
    "print('The probability that the Boulder Beaters win a series is: {}%'.format((temp / 1000) * 100))"
   ]
  },
  {
   "cell_type": "markdown",
   "metadata": {},
   "source": [
    "**Part C**: The winner of the champsionship will take home \\$10,000 to use for equipment and victory parties in the following season. Because the stakes are so high, you've decided to hire a famous Quidditch consultant, Bludger Bob, to help you prepare for each match. With Bob's help your probability of winning any given match increases to $p = 0.7$.  Bludger Bob charges a fee of \\$100 per game, but as a testament to his confidence in his abilities, only charges you the \\$100 for games that you win and only if you win the series.  So, if you play a 11-game series and win you will take home \\$10,000 less \\$600 for Bludger Bob's fees, for a total payout of \\$9,400.  What is the expected payout for an 11-game series?   "
   ]
  },
  {
   "cell_type": "code",
   "execution_count": 65,
   "metadata": {},
   "outputs": [
    {
     "name": "stdout",
     "output_type": "stream",
     "text": [
      "The expected payout of a series is: $7886.8\n"
     ]
    }
   ],
   "source": [
    "payoutSum = 0\n",
    "for i in range(10):\n",
    "    temp = series(0.7) / 1000\n",
    "    payout = ((temp*9400)-((1-temp)*10000))\n",
    "    payoutSum = payoutSum + payout\n",
    "    \n",
    "payoutMean = payoutSum / 10\n",
    "    \n",
    "print('The expected payout of a series is: ${}'.format(payoutMean))"
   ]
  },
  {
   "cell_type": "markdown",
   "metadata": {},
   "source": [
    "**Part D**: This year the National Intramural Quidditch Association (NIQA) is implementing an experimental rule.  \n",
    "As the team with the best record in the regular season you will get to choose the length of the championship series.  Specifically, you can choose the series length to be anywhere from $N=3, 5, 7, \\ldots, 99$ games long.  Assuming that you plan to use Bludger Bob's services and considering the fact that you have a better than even chance of winning each game, explain the trade-offs between choosing a short series vs. a long series in terms of Expected Payout. \n"
   ]
  },
  {
   "cell_type": "markdown",
   "metadata": {
    "collapsed": true
   },
   "source": [
    "With a longer series the probability of winning the series can be higher (since we have a higher chance of winning any given game) but the cost of coaching increases alongside it. However, with a shorter series you have more money to win but are less likely to win."
   ]
  },
  {
   "cell_type": "markdown",
   "metadata": {},
   "source": [
    "**Part E**: Write a function optimal_series that takes in $p$, the probability that your team wins an individual game, then computes the Expected Payout for each series of length $N=3, 5, 7, \\ldots 99$ and returns the optimal series length.  In addition to returning the optimal series length, your function should also produce a plot of Expected Payout vs Series Length. You may write any additional helper functions that you like, but you should not change the API for the function optimal_series. "
   ]
  },
  {
   "cell_type": "code",
   "execution_count": 68,
   "metadata": {},
   "outputs": [
    {
     "data": {
      "text/plain": [
       "1"
      ]
     },
     "execution_count": 68,
     "metadata": {},
     "output_type": "execute_result"
    },
    {
     "data": {
      "image/png": "[encoded data removed]",
      "text/plain": [
       "<matplotlib.figure.Figure at 0x7fd781877e10>"
      ]
     },
     "metadata": {},
     "output_type": "display_data"
    }
   ],
   "source": [
    "def optimal_series(p):\n",
    "    series = [] * 48\n",
    "    nList = [] * 48\n",
    "    seriesLength = 100\n",
    "    maxExpected = 0\n",
    "    \n",
    "    for i in range(3, 101, 2):\n",
    "        gamesWon = 0\n",
    "        for j in range(seriesLength):\n",
    "            won = 0 \n",
    "            lost = 0\n",
    "            for k in range(i):\n",
    "                game = np.random.choice([0, 1], p = [1 - p, p])\n",
    "                \n",
    "                if (game == 1):\n",
    "                    won = won + 1\n",
    "                else:\n",
    "                    lost = lost + 1\n",
    "                    \n",
    "                if (won == ((i + 1) / 2)):\n",
    "                    gamesWon = gamesWon + 1\n",
    "                    break\n",
    "                elif (lost == ((i + 1) / 2)):\n",
    "                    break\n",
    "        prob = gamesWon / seriesLength\n",
    "        \n",
    "        expected = (prob * (10000 - (100 * ((i + 1) / 2)))) - ((1 - prob) * 10000)\n",
    "        \n",
    "        series.append(expected)\n",
    "        nList.append(i)\n",
    "        \n",
    "        if(maxExpected < expected):\n",
    "            optimalN = i\n",
    "            maxExpected = expected\n",
    "            \n",
    "    fig, ax = plt.subplots(nrows = 1, ncols = 1, figsize = (10, 4))\n",
    "    \n",
    "    plt.xticks(np.arange(3, 100, 4.0))\n",
    "    plt.plot(nList, series)\n",
    "    \n",
    "    ax.set_title(\"Optimal Series Length\", fontsize = 20)\n",
    "    ax.set_xlabel(\"Series Length\", fontsize = 16)\n",
    "    ax.set_ylabel(\"Payout\", fontsize = 16)\n",
    "    \n",
    "    ax.grid(alpha = 0.25)\n",
    "    ax.set_axisbelow(True)\n",
    "\n",
    "    return 1\n",
    "optimal_series(0.7)"
   ]
  },
  {
   "cell_type": "markdown",
   "metadata": {},
   "source": [
    "Here we can see that the optimal series length is roughly 23 games, with a payout of aroundd $8,700. After this point the payout begins to decrease almost linearly because you start paying Bob more and more as you play many games."
   ]
  },
  {
   "cell_type": "markdown",
   "metadata": {},
   "source": [
    "### Challenge Problem - Which Geyser Gushes First? \n",
    "***\n",
    "\n",
    "In every homework assignment we'll give you a Challenge Problem.  Challenge Problems never need to be turned in (and in fact, will not be graded) but we encourage you to give them a shot (after completing the required homework problems) and discuss them with your classmates and your instructors. \n",
    "\n",
    "The following Challenge Problem was a [Riddler](https://fivethirtyeight.com/tag/the-riddler/) on [FiveThirtyEight](https://fivethirtyeight.com) a few years back. \n",
    "\n",
    "You arrive at the beautiful Three Geysers National Park. You read a placard explaining that the three eponymous geysers — creatively named $A$, $B$ and $C$ — erupt at intervals of precisely two hours, four hours and six hours, respectively. However, you just got there, so you have no idea how the three eruptions are staggered. Assuming they each started erupting at some independently random point in history, what are the probabilities that A, B and C, respectively, will be the first to erupt after your arrival?\n"
   ]
  },
  {
   "cell_type": "code",
   "execution_count": null,
   "metadata": {
    "collapsed": true
   },
   "outputs": [],
   "source": []
  }
 ],
 "metadata": {
  "kernelspec": {
   "display_name": "Python 3",
   "language": "python",
   "name": "python3"
  },
  "language_info": {
   "codemirror_mode": {
    "name": "ipython",
    "version": 3
   },
   "file_extension": ".py",
   "mimetype": "text/x-python",
   "name": "python",
   "nbconvert_exporter": "python",
   "pygments_lexer": "ipython3",
   "version": "3.6.1"
  }
 },
 "nbformat": 4,
 "nbformat_minor": 2
}
